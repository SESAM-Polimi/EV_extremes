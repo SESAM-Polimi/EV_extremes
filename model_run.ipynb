{
 "cells": [
  {
   "cell_type": "markdown",
   "metadata": {},
   "source": [
    "## EVs price estimation model\n",
    "\n",
    "Installing environment.yml by opening a terminal and typing\n",
    "\n",
    "conda env create --name NAME_OF_YOUR_ENV --file=environment.yml\n",
    "\n",
    "then activate the environment by typing \n",
    "\n",
    "conda activate NAME_OF_YOUR_ENV\n",
    "\n",
    "- - -\n",
    "\n",
    "### Importing dependencies and loading input yml files\n",
    "Start by parsing input yml files and loading dependencies on core.model classes"
   ]
  },
  {
   "cell_type": "code",
   "execution_count": 1,
   "metadata": {},
   "outputs": [],
   "source": [
    "import pandas as pd\n",
    "import yaml\n",
    "import os\n",
    "\n",
    "from core.model import EVs, Minerals, Batteries\n",
    "\n",
    "input_ymls = ['paths', 'new_names', 'assumptions']\n",
    "inputs = {}\n",
    "\n",
    "# Load inputs, paths and assumptions from yml files\n",
    "for input_yml in input_ymls:\n",
    "    with open(f'inputs/{input_yml}.yml') as f:\n",
    "        inputs[input_yml] = yaml.load(f, Loader=yaml.FullLoader)"
   ]
  },
  {
   "cell_type": "markdown",
   "metadata": {},
   "source": [
    "We are now prodiding information on the sets of our model"
   ]
  },
  {
   "cell_type": "code",
   "execution_count": 2,
   "metadata": {},
   "outputs": [],
   "source": [
    "models_list = ['HIST','GCAM']\n",
    "\n",
    "minerals_list = ['Li2CO3']\n",
    "\n",
    "chemistries_list = ['NMC','LFP']\n"
   ]
  },
  {
   "cell_type": "markdown",
   "metadata": {},
   "source": [
    "---\n",
    "### Vehicles\n",
    "Initialize the EVs class by providing its assumptions and parsing production (i.e. sales) projected by each model "
   ]
  },
  {
   "cell_type": "code",
   "execution_count": 3,
   "metadata": {},
   "outputs": [],
   "source": [
    "vehicles = EVs(assumptions = inputs['assumptions']['vehicles'])\n",
    "\n",
    "for model in models_list:\n",
    "    path=inputs['paths']['data']['vehicles']['production'][model]\n",
    "    vehicles.parse_production(path=path,model=model)"
   ]
  },
  {
   "cell_type": "markdown",
   "metadata": {},
   "source": [
    "We need to parse the historical prices and to set the last historical year according to the data we found (2020 in this case)"
   ]
  },
  {
   "cell_type": "code",
   "execution_count": 4,
   "metadata": {},
   "outputs": [],
   "source": [
    "vehicles.parse_historical_prices(path=inputs['paths']['data']['vehicles']['prices'])\n",
    "vehicles.set_last_hist_year(2020)"
   ]
  },
  {
   "cell_type": "markdown",
   "metadata": {},
   "source": [
    "We may also need to rename column values with more readable lables and convert passenger-km or ton-km to vehicles-km"
   ]
  },
  {
   "cell_type": "code",
   "execution_count": 5,
   "metadata": {},
   "outputs": [],
   "source": [
    "vehicles.rename_column_values(new_names=inputs['new_names'])\n",
    "vehicles.convert_km_to_vehicles(units_to_convert=['million ton-km','million pass-km'])"
   ]
  },
  {
   "cell_type": "markdown",
   "metadata": {},
   "source": [
    "---\n",
    "### Minerals\n",
    "Initialize the Minerals class by providing its assumptions. For each mineral in the list above-provided, we need to parse historical price and production data to fit the linear regression model and estimate future prices"
   ]
  },
  {
   "cell_type": "code",
   "execution_count": 6,
   "metadata": {},
   "outputs": [],
   "source": [
    "minerals = Minerals(assumptions = inputs['assumptions']['minerals'])\n",
    "\n",
    "for mineral in minerals_list:\n",
    "    path = inputs['paths']['data']['minerals'][mineral]\n",
    "    minerals.parse_historical_price(path=path,mineral=mineral)\n",
    "    minerals.parse_historical_production(path=path,mineral=mineral)"
   ]
  },
  {
   "cell_type": "markdown",
   "metadata": {},
   "source": [
    "For each mineral we need to estimate the historical production required to manufacture EVs, and to estimate the future one, according the production of mineral not required for EVs will be the same as the average in the \"last_valid_years\" "
   ]
  },
  {
   "cell_type": "code",
   "execution_count": 7,
   "metadata": {},
   "outputs": [],
   "source": [
    "for mineral in minerals_list:\n",
    "    minerals.get_production_for_ev(mineral=mineral,vehicle_production=vehicles.production)\n",
    "    minerals.get_future_production(mineral=mineral,last_valid_years=3,last_hist_year=2020)"
   ]
  },
  {
   "cell_type": "markdown",
   "metadata": {},
   "source": [
    "For each mineral, we need to estimate future prices with a linear regression model trained on historical correlation between price and production."
   ]
  },
  {
   "cell_type": "code",
   "execution_count": 8,
   "metadata": {},
   "outputs": [],
   "source": [
    "for mineral in minerals_list:\n",
    "    minerals.estimate_future_prices(\n",
    "            mineral=mineral,\n",
    "            last_hist_year=2020,\n",
    "            # Add parameters for the linear regression model\n",
    "        )"
   ]
  },
  {
   "cell_type": "markdown",
   "metadata": {},
   "source": [
    "---\n",
    "### Batteries\n",
    "Initialize the Batteries class with its own assumptions. For each chemistry, parse historical price and production (i.e. capacity) data and historical and future chemistry market shares data"
   ]
  },
  {
   "cell_type": "code",
   "execution_count": 9,
   "metadata": {},
   "outputs": [],
   "source": [
    "batteries = Batteries(assumptions = inputs['assumptions']['batteries'])\n",
    "\n",
    "for chemistry in chemistries_list:\n",
    "    path = inputs['paths']['data']['batteries'][chemistry]\n",
    "    batteries.parse_historical_price(path=path,chemistry=chemistry)\n",
    "    batteries.parse_historical_production(path=path,chemistry=chemistry)\n",
    "    batteries.parse_market_shares(path=os.path.join(inputs['paths']['data']['batteries']['market_shares']))  "
   ]
  },
  {
   "cell_type": "markdown",
   "metadata": {},
   "source": [
    "For each chemistry, estimate future production based on global ev production "
   ]
  },
  {
   "cell_type": "code",
   "execution_count": 10,
   "metadata": {},
   "outputs": [],
   "source": [
    "for chemistry in chemistries_list:\n",
    "    batteries.get_future_production(\n",
    "            chemistry = chemistry,\n",
    "            ev_sales = vehicles.get_global_production(excluded_cols=[]),\n",
    "        )"
   ]
  },
  {
   "cell_type": "markdown",
   "metadata": {},
   "source": [
    "Estimate future prices of batteries based on the logaritmic trend provided by Penisa et al. (https://doi.org/10.3390/en13205276). \n",
    "\n",
    "NB.1 This trend may be changed.\n",
    "\n",
    "NB.2 This estimation also accounts for the impact on rising minerals prices\n"
   ]
  },
  {
   "cell_type": "code",
   "execution_count": 11,
   "metadata": {},
   "outputs": [],
   "source": [
    "for chemistry in chemistries_list:    \n",
    "    batteries.estimate_future_prices(\n",
    "        chemistry = chemistry,\n",
    "        minerals = minerals,\n",
    "        mode = 'log',\n",
    "    )"
   ]
  },
  {
   "cell_type": "markdown",
   "metadata": {},
   "source": [
    "---\n",
    "### Future vehicles prices estimation\n",
    "All information to estimate future vehicles prices have been calculated. This will be calculated for the average vehicles in each market-share, by subsector, model, scenario, region and year"
   ]
  },
  {
   "cell_type": "code",
   "execution_count": 12,
   "metadata": {},
   "outputs": [],
   "source": [
    "vehicles.estimate_future_prices(batteries=batteries)"
   ]
  },
  {
   "cell_type": "markdown",
   "metadata": {},
   "source": [
    "---\n",
    "### Results export\n",
    "The results are ready to be exported"
   ]
  },
  {
   "cell_type": "code",
   "execution_count": 14,
   "metadata": {},
   "outputs": [],
   "source": [
    "vehicles.prices.to_csv(inputs['paths']['results']['vehicles']['prices'],index=False)\n",
    "minerals.prices.to_csv(inputs['paths']['results']['minerals']['prices'],index=False)\n",
    "batteries.prices.to_csv(inputs['paths']['results']['batteries']['prices'],index=False)\n",
    "vehicles.production.to_csv(inputs['paths']['results']['vehicles']['production'],index=False)\n",
    "minerals.production.to_csv(inputs['paths']['results']['minerals']['production'],index=False)\n",
    "batteries.production.to_csv(inputs['paths']['results']['batteries']['production'],index=False)"
   ]
  }
 ],
 "metadata": {
  "kernelspec": {
   "display_name": "ev_extremes",
   "language": "python",
   "name": "python3"
  },
  "language_info": {
   "codemirror_mode": {
    "name": "ipython",
    "version": 3
   },
   "file_extension": ".py",
   "mimetype": "text/x-python",
   "name": "python",
   "nbconvert_exporter": "python",
   "pygments_lexer": "ipython3",
   "version": "3.10.14"
  }
 },
 "nbformat": 4,
 "nbformat_minor": 2
}
